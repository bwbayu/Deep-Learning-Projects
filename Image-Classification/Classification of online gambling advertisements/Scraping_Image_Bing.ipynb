{
  "nbformat": 4,
  "nbformat_minor": 0,
  "metadata": {
    "colab": {
      "provenance": [],
      "mount_file_id": "1OAuiWFLzPL0xznbqijoSKz-u_oyVjoJw",
      "authorship_tag": "ABX9TyM0RsQ0svjgbht70St2Fjfj",
      "include_colab_link": true
    },
    "kernelspec": {
      "name": "python3",
      "display_name": "Python 3"
    },
    "language_info": {
      "name": "python"
    }
  },
  "cells": [
    {
      "cell_type": "markdown",
      "metadata": {
        "id": "view-in-github",
        "colab_type": "text"
      },
      "source": [
        "<a href=\"https://colab.research.google.com/github/bwbayu/Deep-Learning-Projects/blob/main/Image-Classification/Classification%20of%20online%20gambling%20advertisements/Scraping_Image_Bing.ipynb\" target=\"_parent\"><img src=\"https://colab.research.google.com/assets/colab-badge.svg\" alt=\"Open In Colab\"/></a>"
      ]
    },
    {
      "cell_type": "code",
      "execution_count": null,
      "metadata": {
        "colab": {
          "base_uri": "https://localhost:8080/"
        },
        "id": "6jIwz8N8UaIS",
        "outputId": "2bf7bf01-6a53-48a4-ad44-04847651a1ec"
      },
      "outputs": [
        {
          "output_type": "stream",
          "name": "stdout",
          "text": [
            "Collecting bing-image-downloader\n",
            "  Downloading bing_image_downloader-1.1.2-py3-none-any.whl (5.9 kB)\n",
            "Installing collected packages: bing-image-downloader\n",
            "Successfully installed bing-image-downloader-1.1.2\n"
          ]
        }
      ],
      "source": [
        "!pip install bing-image-downloader"
      ]
    },
    {
      "cell_type": "code",
      "source": [
        "from bing_image_downloader import downloader"
      ],
      "metadata": {
        "id": "EMgY_dt7gnmJ"
      },
      "execution_count": null,
      "outputs": []
    },
    {
      "cell_type": "code",
      "source": [
        "#set the directory\n",
        "dir = '/content/drive/MyDrive/Semester 5/Deep Learning/test'"
      ],
      "metadata": {
        "id": "wpkhw-p7gwGt"
      },
      "execution_count": null,
      "outputs": []
    },
    {
      "cell_type": "code",
      "source": [
        "# scraping by insert the keyword of the images\n",
        "downloader.download('keyword', limit = 200, output_dir = dir, adult_filter_off = False)"
      ],
      "metadata": {
        "id": "nZrdE4BRhwZ2"
      },
      "execution_count": null,
      "outputs": []
    }
  ]
}